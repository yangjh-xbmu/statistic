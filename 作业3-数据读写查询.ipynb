{
 "cells": [
  {
   "cell_type": "code",
   "execution_count": 34,
   "metadata": {},
   "outputs": [],
   "source": [
    "#任务1：csv格式数据的读写查询\n",
    "\n",
    "import pandas as pd"
   ]
  },
  {
   "cell_type": "code",
   "execution_count": 35,
   "metadata": {},
   "outputs": [],
   "source": [
    "列名列表 = ['姓名', '学号', 'Github仓库地址']\n",
    "df1 = pd.read_csv(R'data\\第一次作业提交统计.csv', encoding='GBK', usecols=列名列表)"
   ]
  },
  {
   "cell_type": "code",
   "execution_count": null,
   "metadata": {},
   "outputs": [],
   "source": [
    "df1.to_csv('output/csv保存练习.csv', index = False)"
   ]
  },
  {
   "cell_type": "code",
   "execution_count": null,
   "metadata": {},
   "outputs": [],
   "source": [
    "#任务2：xls格式数据的读写查询\n",
    "df2 = pd.read_excel(R'data\\000_《统计与数据分析》课程第一次作业收集_提交统计.xlsx',sheet_name='提交清单',usecols=['姓名', '学号', 'Github仓库地址'])"
   ]
  },
  {
   "cell_type": "code",
   "execution_count": null,
   "metadata": {},
   "outputs": [],
   "source": [
    "df2.to_excel(R'output/excel保存练习.xlsx',index=False)"
   ]
  },
  {
   "cell_type": "code",
   "execution_count": null,
   "metadata": {},
   "outputs": [],
   "source": [
    "#任务3：sav格式数据的读写查询\n",
    "df3 = pd.read_spss(R'data\\identity.sav')"
   ]
  },
  {
   "cell_type": "code",
   "execution_count": null,
   "metadata": {},
   "outputs": [],
   "source": [
    "import pyreadstat"
   ]
  },
  {
   "cell_type": "code",
   "execution_count": null,
   "metadata": {},
   "outputs": [],
   "source": [
    "d = pyreadstat.read_sav(R'data\\identity.sav')[0]\n"
   ]
  },
  {
   "cell_type": "code",
   "execution_count": null,
   "metadata": {},
   "outputs": [],
   "source": [
    "#任务4：pdf表格数据的读写查询\n",
    "import pdfplumber\n",
    "pdf = pdfplumber.open(R'data\\高考核心词汇1278.pdf')\n",
    "pdf.pages"
   ]
  },
  {
   "cell_type": "code",
   "execution_count": null,
   "metadata": {},
   "outputs": [],
   "source": [
    "# 初始化列表\n",
    "table = []\n",
    "# 从第一页循环到最后一页\n",
    "for i in range(len(pdf.pages) - 1):\n",
    "    # 获取第i页\n",
    "    page = pdf.pages[i + 1]\n",
    "    # page.extract_table()作用是提取当前页面page中的表格\n",
    "    # table.extend的作用是将元素增加到列表table中\n",
    "    table.extend(page.extract_table())\n"
   ]
  },
  {
   "cell_type": "code",
   "execution_count": null,
   "metadata": {},
   "outputs": [],
   "source": [
    "# for i in range(len(pdf.pages) - 1):\n",
    "#     print(i)"
   ]
  }
 ],
 "metadata": {
  "kernelspec": {
   "display_name": "Python 3",
   "language": "python",
   "name": "python3"
  },
  "language_info": {
   "codemirror_mode": {
    "name": "ipython",
    "version": 3
   },
   "file_extension": ".py",
   "mimetype": "text/x-python",
   "name": "python",
   "nbconvert_exporter": "python",
   "pygments_lexer": "ipython3",
   "version": "3.8.10"
  },
  "orig_nbformat": 4
 },
 "nbformat": 4,
 "nbformat_minor": 2
}
