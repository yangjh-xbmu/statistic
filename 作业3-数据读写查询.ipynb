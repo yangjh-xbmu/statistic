{
 "cells": [
  {
   "cell_type": "code",
   "execution_count": 1,
   "metadata": {},
   "outputs": [],
   "source": [
    "#任务1：csv格式数据的读写查询\n",
    "\n",
    "import pandas as pd"
   ]
  },
  {
   "cell_type": "code",
   "execution_count": 2,
   "metadata": {},
   "outputs": [],
   "source": [
    "列名列表 = ['姓名', '学号', 'Github仓库地址']\n",
    "df1 = pd.read_csv(R'data\\第一次作业提交统计.csv', encoding='GBK', usecols=列名列表)"
   ]
  },
  {
   "cell_type": "code",
   "execution_count": 3,
   "metadata": {},
   "outputs": [],
   "source": [
    "df1.to_csv('output/csv保存练习.csv', index = False)"
   ]
  },
  {
   "cell_type": "code",
   "execution_count": 4,
   "metadata": {},
   "outputs": [],
   "source": [
    "#任务2：xls格式数据的读写查询\n",
    "df2 = pd.read_excel(R'data\\000_《统计与数据分析》课程第一次作业收集_提交统计.xlsx',sheet_name='提交清单',usecols=['姓名', '学号', 'Github仓库地址'])"
   ]
  },
  {
   "cell_type": "code",
   "execution_count": 5,
   "metadata": {},
   "outputs": [],
   "source": [
    "df2.to_excel(R'output/excel保存练习.xlsx',index=False)"
   ]
  },
  {
   "cell_type": "code",
   "execution_count": 6,
   "metadata": {},
   "outputs": [],
   "source": [
    "#任务3：sav格式数据的读写查询\n",
    "df3 = pd.read_spss(R'data\\identity.sav')"
   ]
  },
  {
   "cell_type": "code",
   "execution_count": 7,
   "metadata": {},
   "outputs": [],
   "source": [
    "import pyreadstat"
   ]
  },
  {
   "cell_type": "code",
   "execution_count": 8,
   "metadata": {},
   "outputs": [],
   "source": [
    "d = pyreadstat.read_sav(R'data\\identity.sav')[0]\n"
   ]
  },
  {
   "cell_type": "code",
   "execution_count": 9,
   "metadata": {},
   "outputs": [
    {
     "data": {
      "text/plain": [
       "[<Page:1>,\n",
       " <Page:2>,\n",
       " <Page:3>,\n",
       " <Page:4>,\n",
       " <Page:5>,\n",
       " <Page:6>,\n",
       " <Page:7>,\n",
       " <Page:8>,\n",
       " <Page:9>,\n",
       " <Page:10>,\n",
       " <Page:11>,\n",
       " <Page:12>,\n",
       " <Page:13>,\n",
       " <Page:14>,\n",
       " <Page:15>,\n",
       " <Page:16>,\n",
       " <Page:17>,\n",
       " <Page:18>,\n",
       " <Page:19>,\n",
       " <Page:20>,\n",
       " <Page:21>,\n",
       " <Page:22>,\n",
       " <Page:23>,\n",
       " <Page:24>,\n",
       " <Page:25>,\n",
       " <Page:26>,\n",
       " <Page:27>,\n",
       " <Page:28>,\n",
       " <Page:29>,\n",
       " <Page:30>,\n",
       " <Page:31>,\n",
       " <Page:32>,\n",
       " <Page:33>,\n",
       " <Page:34>,\n",
       " <Page:35>,\n",
       " <Page:36>,\n",
       " <Page:37>,\n",
       " <Page:38>,\n",
       " <Page:39>,\n",
       " <Page:40>,\n",
       " <Page:41>,\n",
       " <Page:42>,\n",
       " <Page:43>,\n",
       " <Page:44>,\n",
       " <Page:45>,\n",
       " <Page:46>,\n",
       " <Page:47>,\n",
       " <Page:48>,\n",
       " <Page:49>,\n",
       " <Page:50>,\n",
       " <Page:51>,\n",
       " <Page:52>,\n",
       " <Page:53>,\n",
       " <Page:54>,\n",
       " <Page:55>,\n",
       " <Page:56>,\n",
       " <Page:57>,\n",
       " <Page:58>,\n",
       " <Page:59>,\n",
       " <Page:60>,\n",
       " <Page:61>,\n",
       " <Page:62>,\n",
       " <Page:63>,\n",
       " <Page:64>,\n",
       " <Page:65>,\n",
       " <Page:66>,\n",
       " <Page:67>,\n",
       " <Page:68>,\n",
       " <Page:69>,\n",
       " <Page:70>,\n",
       " <Page:71>,\n",
       " <Page:72>,\n",
       " <Page:73>,\n",
       " <Page:74>,\n",
       " <Page:75>,\n",
       " <Page:76>,\n",
       " <Page:77>,\n",
       " <Page:78>,\n",
       " <Page:79>,\n",
       " <Page:80>,\n",
       " <Page:81>,\n",
       " <Page:82>,\n",
       " <Page:83>,\n",
       " <Page:84>,\n",
       " <Page:85>,\n",
       " <Page:86>,\n",
       " <Page:87>,\n",
       " <Page:88>,\n",
       " <Page:89>,\n",
       " <Page:90>,\n",
       " <Page:91>,\n",
       " <Page:92>]"
      ]
     },
     "execution_count": 9,
     "metadata": {},
     "output_type": "execute_result"
    }
   ],
   "source": [
    "#任务4：pdf表格数据的读写查询\n",
    "import pdfplumber\n",
    "pdf = pdfplumber.open(R'data\\高考核心词汇1278.pdf')\n",
    "pdf.pages"
   ]
  },
  {
   "cell_type": "code",
   "execution_count": 10,
   "metadata": {},
   "outputs": [],
   "source": [
    "# 初始化列表\n",
    "table = []\n",
    "# 从第一页循环到最后一页\n",
    "for i in range(len(pdf.pages) - 1):\n",
    "    # 获取第i页\n",
    "    page = pdf.pages[i + 1]\n",
    "    # page.extract_table()作用是提取当前页面page中的表格\n",
    "    # table.extend的作用是将元素增加到列表table中\n",
    "    table.extend(page.extract_table())\n"
   ]
  },
  {
   "cell_type": "code",
   "execution_count": 13,
   "metadata": {},
   "outputs": [],
   "source": [
    "pdf_df = pd.DataFrame(table[2:])"
   ]
  },
  {
   "cell_type": "code",
   "execution_count": 14,
   "metadata": {},
   "outputs": [],
   "source": [
    "pdf_df.to_excel('output/pdf表格数据读取练习结果.xlsx',index=False)"
   ]
  },
  {
   "cell_type": "code",
   "execution_count": 11,
   "metadata": {},
   "outputs": [],
   "source": [
    "# for i in range(len(pdf.pages) - 1):\n",
    "#     print(i)"
   ]
  }
 ],
 "metadata": {
  "kernelspec": {
   "display_name": "Python 3",
   "language": "python",
   "name": "python3"
  },
  "language_info": {
   "codemirror_mode": {
    "name": "ipython",
    "version": 3
   },
   "file_extension": ".py",
   "mimetype": "text/x-python",
   "name": "python",
   "nbconvert_exporter": "python",
   "pygments_lexer": "ipython3",
   "version": "3.8.10"
  },
  "orig_nbformat": 4
 },
 "nbformat": 4,
 "nbformat_minor": 2
}
