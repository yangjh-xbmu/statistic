{
 "cells": [
  {
   "cell_type": "code",
   "execution_count": 1,
   "metadata": {},
   "outputs": [
    {
     "name": "stdout",
     "output_type": "stream",
     "text": [
      "你好，这是我的第一行代码！\n"
     ]
    }
   ],
   "source": [
    "print('你好，这是我的第一行代码！')"
   ]
  },
  {
   "cell_type": "code",
   "execution_count": 1,
   "metadata": {},
   "outputs": [
    {
     "name": "stdout",
     "output_type": "stream",
     "text": [
      "3 + 2 = 5\n",
      "3 - 2 = 1\n",
      "3 * 2 = 6\n",
      "3 / 2 = 1.5\n",
      "3 // 2 = 1\n",
      "3 ** 2 = 9\n",
      "3 % 2 = 1\n"
     ]
    }
   ],
   "source": [
    "print(\"3 + 2 = \" + str(3 +2))\n",
    "print(\"3 - 2 = \" + str(3 -2))\n",
    "print(\"3 * 2 = \" + str(3 *2))\n",
    "print(\"3 / 2 = \" + str(3/2))\n",
    "print(\"3 // 2 = \" + str(3//2))\n",
    "print(\"3 ** 2 = \" + str(3**2))\n",
    "print(\"3 % 2 = \" + str(3%2))"
   ]
  },
  {
   "cell_type": "code",
   "execution_count": 19,
   "metadata": {},
   "outputs": [
    {
     "name": "stdout",
     "output_type": "stream",
     "text": [
      "崆峒派\n",
      "崆峒\n"
     ]
    }
   ],
   "source": [
    "Sects = '崆峒派' \n",
    "print(Sects)\n",
    "门派 = '崆峒'\n",
    "print(门派)"
   ]
  },
  {
   "cell_type": "markdown",
   "metadata": {},
   "source": [
    "1. 删除已有账户信息。（windows凭据管理器中，查看信息，如不是自己账号，则删除）\n",
    "2. 新建git账户信息，可用脚本复用，具体见push.sh\n",
    "3. 执行推送脚本\n",
    "    1. 启动bash终端\n",
    "    2. 执行 `sh push.sh`"
   ]
  }
 ],
 "metadata": {
  "kernelspec": {
   "display_name": "Python 3",
   "language": "python",
   "name": "python3"
  },
  "language_info": {
   "codemirror_mode": {
    "name": "ipython",
    "version": 3
   },
   "file_extension": ".py",
   "mimetype": "text/x-python",
   "name": "python",
   "nbconvert_exporter": "python",
   "pygments_lexer": "ipython3",
   "version": "3.8.10"
  },
  "orig_nbformat": 4
 },
 "nbformat": 4,
 "nbformat_minor": 2
}
